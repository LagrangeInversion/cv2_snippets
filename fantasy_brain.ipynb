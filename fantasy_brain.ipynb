{
 "metadata": {
  "name": "",
  "signature": "sha256:ed2a9283a13f41cc02c42c3ce606acd3c13ccc4156e497f168d7c69f1be97397"
 },
 "nbformat": 3,
 "nbformat_minor": 0,
 "worksheets": [
  {
   "cells": [
    {
     "cell_type": "code",
     "collapsed": false,
     "input": [
      "from pybrain.tools.shortcuts import buildNetwork\n",
      "net = buildNetwork(x_dim, 3,1, bias=True)\n",
      "net.sortModules()\n"
     ],
     "language": "python",
     "metadata": {},
     "outputs": [],
     "prompt_number": 20
    },
    {
     "cell_type": "code",
     "collapsed": false,
     "input": [
      "import csv\n",
      "\n",
      "def load_data(stats_file,role):\n",
      "    data = []\n",
      "    f = open(stats_file,'r')\n",
      "    reader = csv.reader(f)\n",
      "    player_stat = []\n",
      "    for line in reader:\n",
      "        if line[1] == role: \n",
      "            data.append( [ line[2],int(line[3]),float(line[4]),float(line[6]),float(line[7]),\n",
      "                         float(line[8]),float(line[9]),float(line[10]),float(line[11]),float(line[12]),\n",
      "                         float(line[13]),float(line[14]),float(line[15]),float(line[16]),float(line[17]),\n",
      "                         float(line[18]),float(line[19]),float(line[20]),float(line[21]) ])\n",
      "    last_record = {}\n",
      "    refined = []\n",
      "    for d in data:\n",
      "        last = last_record.get(d[0])\n",
      "        if  last == None:\n",
      "            last_record[d[0]] = d[2:]\n",
      "        else:\n",
      "            refined.append((np.array(last),d[2]-last[0]))\n",
      "    print 'refined:',len(refined),'cases'\n",
      "    return np.array(refined)\n",
      "    #N = len(refined)\n",
      "    #random.shuffle(refined)\n",
      "    #return refined[:N*2/3],refined[N*2/3:N*5/6],refined[N*5/6:]\n"
     ],
     "language": "python",
     "metadata": {},
     "outputs": [],
     "prompt_number": 2
    },
    {
     "cell_type": "code",
     "collapsed": false,
     "input": [
      "import random\n",
      "import numpy as np\n",
      "from pybrain.datasets import SupervisedDataSet\n",
      "\n",
      "data = load_data('../fantasy/offense1.csv','QB')\n",
      "x_dim = len(data[0][0])\n",
      "ds = SupervisedDataSet(x_dim, 1)\n",
      "\n",
      "ds.clear()\n",
      "for (x,y) in data:\n",
      "    ds.addSample(x, y)\n"
     ],
     "language": "python",
     "metadata": {},
     "outputs": [
      {
       "output_type": "stream",
       "stream": "stdout",
       "text": [
        "refined: 524 cases\n"
       ]
      }
     ],
     "prompt_number": 4
    },
    {
     "cell_type": "code",
     "collapsed": false,
     "input": [
      "from pybrain.supervised.trainers import BackpropTrainer\n",
      "\n",
      "trainer = BackpropTrainer(net, ds, learningrate = 0.001, weightdecay=0.1, batchlearning=True,verbose=True)\n",
      "trainer.trainUntilConvergence(verbose=True,maxEpochs=10)\n"
     ],
     "language": "python",
     "metadata": {},
     "outputs": [
      {
       "output_type": "stream",
       "stream": "stdout",
       "text": [
        "Total error: 404613.5166\n",
        "Total error:"
       ]
      },
      {
       "output_type": "stream",
       "stream": "stdout",
       "text": [
        " 276492.739482\n",
        "Total error:"
       ]
      },
      {
       "output_type": "stream",
       "stream": "stdout",
       "text": [
        " 268401.430885\n",
        "Total error:"
       ]
      },
      {
       "output_type": "stream",
       "stream": "stdout",
       "text": [
        " 267990.802382\n",
        "Total error:"
       ]
      },
      {
       "output_type": "stream",
       "stream": "stdout",
       "text": [
        " 267868.975751\n",
        "Total error:"
       ]
      },
      {
       "output_type": "stream",
       "stream": "stdout",
       "text": [
        " 267756.461915\n",
        "Total error:"
       ]
      },
      {
       "output_type": "stream",
       "stream": "stdout",
       "text": [
        " 267644.573707\n",
        "Total error:"
       ]
      },
      {
       "output_type": "stream",
       "stream": "stdout",
       "text": [
        " 267533.045994\n",
        "Total error:"
       ]
      },
      {
       "output_type": "stream",
       "stream": "stdout",
       "text": [
        " 267421.874977\n",
        "Total error:"
       ]
      },
      {
       "output_type": "stream",
       "stream": "stdout",
       "text": [
        " 267311.063679\n",
        "Total error:"
       ]
      },
      {
       "output_type": "stream",
       "stream": "stdout",
       "text": [
        " 267200.614084\n",
        "train-errors:"
       ]
      },
      {
       "output_type": "stream",
       "stream": "stdout",
       "text": [
        " [  404613.516600  276492.739482  268401.430885  267990.802382  267868.975751  267756.461915  267644.573707  267533.045994  267421.874977  267311.063679  267200.614084  268401.430885]\n",
        "valid-errors: [  368048.006662  296634.638646  282329.039615  285002.687448  284470.176770  284563.032474  284547.470648  284551.084667  284551.317668  284552.145682  284552.867466  284553.606655]\n"
       ]
      },
      {
       "metadata": {},
       "output_type": "pyout",
       "prompt_number": 21,
       "text": [
        "([404613.51659999322,\n",
        "  276492.73948173539,\n",
        "  268401.43088455882,\n",
        "  267990.8023815917,\n",
        "  267868.97575070907,\n",
        "  267756.46191476932,\n",
        "  267644.57370692637,\n",
        "  267533.04599420476,\n",
        "  267421.87497706717,\n",
        "  267311.06367932749,\n",
        "  267200.61408394226,\n",
        "  268401.43088455894],\n",
        " [368048.00666189083,\n",
        "  296634.63864609203,\n",
        "  282329.0396148276,\n",
        "  285002.68744828121,\n",
        "  284470.1767696701,\n",
        "  284563.03247375664,\n",
        "  284547.4706479446,\n",
        "  284551.08466681361,\n",
        "  284551.31766751519,\n",
        "  284552.1456824569,\n",
        "  284552.86746559752,\n",
        "  284553.60665466997])"
       ]
      }
     ],
     "prompt_number": 21
    },
    {
     "cell_type": "code",
     "collapsed": false,
     "input": [
      "x,y = data[334]\n",
      "print net.activate(x),y"
     ],
     "language": "python",
     "metadata": {},
     "outputs": [
      {
       "output_type": "stream",
       "stream": "stdout",
       "text": [
        "[-497.56895042] 400.0\n"
       ]
      }
     ],
     "prompt_number": 26
    }
   ],
   "metadata": {}
  }
 ]
}