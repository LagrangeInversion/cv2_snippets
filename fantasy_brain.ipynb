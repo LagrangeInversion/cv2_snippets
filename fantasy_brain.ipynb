{
 "metadata": {
  "name": "",
  "signature": "sha256:b4df34ba1f9b8785689e1fc80abce09ad413b3731aef1cb792b810c76cd3f5dd"
 },
 "nbformat": 3,
 "nbformat_minor": 0,
 "worksheets": [
  {
   "cells": [
    {
     "cell_type": "code",
     "collapsed": false,
     "input": [
      "from pybrain.tools.shortcuts import buildNetwork\n",
      "net = buildNetwork(x_dim, 1,1, bias=True)\n",
      "net.sortModules()\n",
      "net.set_Parameteres = np.zeros(20)\n",
      "net.params"
     ],
     "language": "python",
     "metadata": {},
     "outputs": [
      {
       "metadata": {},
       "output_type": "pyout",
       "prompt_number": 102,
       "text": [
        "array([-0.62950569, -0.21286504, -0.97291817, -1.44788609,  1.69942447,\n",
        "        0.36579482, -0.06482239,  0.8985943 ,  0.5298772 , -1.08782139,\n",
        "       -0.16245872,  0.00998734, -0.2336896 ,  0.14429319, -0.24733658,\n",
        "        0.38682106,  0.75202824, -0.31036055,  1.94716822,  0.30101857])"
       ]
      }
     ],
     "prompt_number": 102
    },
    {
     "cell_type": "code",
     "collapsed": false,
     "input": [
      "import csv\n",
      "\n",
      "def load_data(stats_file,role):\n",
      "    data = []\n",
      "    f = open(stats_file,'r')\n",
      "    reader = csv.reader(f)\n",
      "    player_stat = []\n",
      "    for line in reader:\n",
      "        if line[1] == role: \n",
      "            data.append( [ line[2],int(line[3]),float(line[4]),float(line[6]),float(line[7]),\n",
      "                         float(line[8]),float(line[9]),float(line[10]),float(line[11]),float(line[12]),\n",
      "                         float(line[13]),float(line[14]),float(line[15]),float(line[16]),float(line[17]),\n",
      "                         float(line[18]),float(line[19]),float(line[20]),float(line[21]) ])\n",
      "    last_record = {}\n",
      "    refined = []\n",
      "    for d in data:\n",
      "        last = last_record.get(d[0])\n",
      "        if d[4] == 0: continue\n",
      "            \n",
      "        if  last == None:\n",
      "            last_record[d[0]] = d[2:]\n",
      "        else:\n",
      "            refined.append((np.array(last),d[2]-last[0]))\n",
      "    print 'refined:',len(refined),'cases'\n",
      "    return np.array(refined)\n",
      "    #N = len(refined)\n",
      "    #random.shuffle(refined)\n",
      "    #return refined[:N*2/3],refined[N*2/3:N*5/6],refined[N*5/6:]\n"
     ],
     "language": "python",
     "metadata": {},
     "outputs": [],
     "prompt_number": 81
    },
    {
     "cell_type": "code",
     "collapsed": false,
     "input": [
      "import random\n",
      "import numpy as np\n",
      "from pybrain.datasets import SupervisedDataSet\n",
      "\n",
      "data = load_data('../fantasy/offense1.csv','QB')\n",
      "x_dim = len(data[0][0])\n",
      "ds = SupervisedDataSet(x_dim, 1)\n",
      "\n",
      "ds.clear()\n",
      "for (x,y) in data:\n",
      "    ds.addSample(x, y)\n"
     ],
     "language": "python",
     "metadata": {},
     "outputs": [
      {
       "output_type": "stream",
       "stream": "stdout",
       "text": [
        "refined: 412 cases\n"
       ]
      }
     ],
     "prompt_number": 82
    },
    {
     "cell_type": "code",
     "collapsed": false,
     "input": [
      "from pybrain.supervised.trainers import BackpropTrainer\n",
      "\n",
      "trainer = BackpropTrainer(net, ds, learningrate = 0.001, weightdecay=0.001, batchlearning=True,verbose=True)\n",
      "trainer.trainUntilConvergence(verbose=True,maxEpochs=10)\n"
     ],
     "language": "python",
     "metadata": {},
     "outputs": [
      {
       "output_type": "stream",
       "stream": "stdout",
       "text": [
        "Total error: 402170.454336\n",
        "Total error:"
       ]
      },
      {
       "output_type": "stream",
       "stream": "stdout",
       "text": [
        " 324271.244073\n",
        "Total error:"
       ]
      },
      {
       "output_type": "stream",
       "stream": "stdout",
       "text": [
        " 287075.851257\n",
        "Total error:"
       ]
      },
      {
       "output_type": "stream",
       "stream": "stdout",
       "text": [
        " 269315.7579\n",
        "Total error:"
       ]
      },
      {
       "output_type": "stream",
       "stream": "stdout",
       "text": [
        " 260835.650763\n",
        "Total error:"
       ]
      },
      {
       "output_type": "stream",
       "stream": "stdout",
       "text": [
        " 256786.560728\n",
        "Total error:"
       ]
      },
      {
       "output_type": "stream",
       "stream": "stdout",
       "text": [
        " 254853.197169\n",
        "Total error:"
       ]
      },
      {
       "output_type": "stream",
       "stream": "stdout",
       "text": [
        " 253930.052803\n",
        "Total error:"
       ]
      },
      {
       "output_type": "stream",
       "stream": "stdout",
       "text": [
        " 253489.268908\n",
        "Total error:"
       ]
      },
      {
       "output_type": "stream",
       "stream": "stdout",
       "text": [
        " 253278.802973\n",
        "Total error:"
       ]
      },
      {
       "output_type": "stream",
       "stream": "stdout",
       "text": [
        " 253178.309488\n",
        "train-errors:"
       ]
      },
      {
       "output_type": "stream",
       "stream": "stdout",
       "text": [
        " [  402170.454336  324271.244073  287075.851257  269315.757900  260835.650763  256786.560728  254853.197169  253930.052803  253489.268908  253278.802973  253178.309488  256786.560728]\n",
        "valid-errors: [  321594.883292  260459.333543  234847.630142  225091.866171  222142.750640  221915.575804  222623.155648  223524.903174  224345.119576  225006.004846  225507.615044  225875.684959]\n"
       ]
      },
      {
       "metadata": {},
       "output_type": "pyout",
       "prompt_number": 95,
       "text": [
        "([402170.4543362984,\n",
        "  324271.24407264532,\n",
        "  287075.85125674686,\n",
        "  269315.75789961766,\n",
        "  260835.65076336366,\n",
        "  256786.56072783779,\n",
        "  254853.19716858445,\n",
        "  253930.0528029486,\n",
        "  253489.26890810003,\n",
        "  253278.80297320479,\n",
        "  253178.30948814441,\n",
        "  256786.56072783755],\n",
        " [321594.88329232269,\n",
        "  260459.33354274716,\n",
        "  234847.63014207562,\n",
        "  225091.86617086933,\n",
        "  222142.75064028648,\n",
        "  221915.57580427986,\n",
        "  222623.15564789483,\n",
        "  223524.90317364084,\n",
        "  224345.11957573766,\n",
        "  225006.00484603032,\n",
        "  225507.61504375577,\n",
        "  225875.68495882046])"
       ]
      }
     ],
     "prompt_number": 95
    },
    {
     "cell_type": "code",
     "collapsed": false,
     "input": [
      "x,y = data[83]\n",
      "print 'input:',x\n",
      "print net.activate(x),y"
     ],
     "language": "python",
     "metadata": {},
     "outputs": [
      {
       "output_type": "stream",
       "stream": "stdout",
       "text": [
        "input: [  5.00000000e+03   0.00000000e+00   1.00000000e-01   0.00000000e+00\n",
        "   0.00000000e+00   0.00000000e+00   1.12800000e+01   0.00000000e+00\n",
        "   0.00000000e+00   0.00000000e+00   0.00000000e+00   0.00000000e+00\n",
        "   4.00000000e+00   0.00000000e+00   0.00000000e+00   0.00000000e+00\n",
        "   0.00000000e+00]\n",
        "[-459.93047748] 0.0\n"
       ]
      }
     ],
     "prompt_number": 98
    },
    {
     "cell_type": "code",
     "collapsed": false,
     "input": [
      "net.params"
     ],
     "language": "python",
     "metadata": {},
     "outputs": [
      {
       "metadata": {},
       "output_type": "pyout",
       "prompt_number": 99,
       "text": [
        "array([ -4.59930477e+02,   1.21839651e+00,  -8.14917703e-01,\n",
        "        -2.49111372e-01,  -9.26264244e-01,   2.71993798e-01,\n",
        "        -1.56518792e-01,   1.04858864e+00,  -6.32751034e-01,\n",
        "         8.19507479e-01,   1.29958720e+00,  -1.87066195e+00,\n",
        "         2.50594241e-01,   1.45867462e+00,  -1.42804654e+00,\n",
        "         6.81250175e-01,  -3.42824940e-01,   8.55001149e-01,\n",
        "        -2.57569787e-01,  -2.38004135e+00])"
       ]
      }
     ],
     "prompt_number": 99
    }
   ],
   "metadata": {}
  }
 ]
}